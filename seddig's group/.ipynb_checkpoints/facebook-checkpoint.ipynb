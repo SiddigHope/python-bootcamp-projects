{
 "cells": [
  {
   "cell_type": "code",
   "execution_count": 2,
   "metadata": {},
   "outputs": [],
   "source": [
    "# from facebook_scraper import get_posts\n",
    "# import pandas as pd\n",
    "# posts_list = []\n",
    "# for post in get_posts('SudanPMHamdok', pages=1):\n",
    "#     posts_list.append(post)\n",
    "\n",
    "# posts = pd.DataFrame(posts_list)\n",
    "# posts"
   ]
  },
  {
   "cell_type": "code",
   "execution_count": null,
   "metadata": {},
   "outputs": [],
   "source": []
  },
  {
   "cell_type": "code",
   "execution_count": 3,
   "metadata": {},
   "outputs": [
    {
     "name": "stderr",
     "output_type": "stream",
     "text": [
      "/home/siddig/.local/lib/python3.8/site-packages/facebook_scraper/facebook_scraper.py:440: UserWarning: Facebook served mbasic/noscript content unexpectedly on https://m.facebook.com/page_content_list_view/more/?page_id=109855750397935&start_cursor=%7B%22timeline_cursor%22:%22AQHRMRD9aqDvwXLg2g2pjfvkiTFiDPpgK9aMkzI6530Ur5TQdq7zzmuAvEBIVXVOiUUFRQRBAxHvp0wqLgkfUGTFHVXvChxsqUveYL6pKHgdeN5CiGWI_z8trbl3DRfjo3BR%22,%22timeline_section_cursor%22:null,%22has_next_page%22:true%7D&num_to_fetch=4&surface_type=posts_tab\n",
      "  warnings.warn(\n",
      "/home/siddig/.local/lib/python3.8/site-packages/facebook_scraper/facebook_scraper.py:440: UserWarning: Facebook served mbasic/noscript content unexpectedly on https://m.facebook.com/page_content_list_view/more/?page_id=109855750397935&start_cursor=%7B%22timeline_cursor%22:%22AQHRDHcC20KoQErlOWYdnLzKqoXOktjtmQPBA1UeuqZVDi91M6hRUFyyfkeZW8cMzES5nhqCjmlt_8UIYuQq2hfA2FNqXgnTDtzzyRiOSKe0KXfKVoogOOVWduy_K3P0GHM5%22,%22timeline_section_cursor%22:null,%22has_next_page%22:true%7D&num_to_fetch=4&surface_type=posts_tab\n",
      "  warnings.warn(\n",
      "/home/siddig/.local/lib/python3.8/site-packages/facebook_scraper/facebook_scraper.py:440: UserWarning: Facebook served mbasic/noscript content unexpectedly on https://m.facebook.com/page_content_list_view/more/?page_id=109855750397935&start_cursor=%7B%22timeline_cursor%22:%22AQHR40q8d1UCML2jtg-AR4hImoO3GOwLKX4vln09LLmriShpGi4xd1GxPYZ1VN-UJW0GnIAeZ6NvYjHZitzZXE1Kr5rvOtYg5qJcdzcVXw3VK-I7F0Sf9EDJWQkfn7No7QKT%22,%22timeline_section_cursor%22:null,%22has_next_page%22:true%7D&num_to_fetch=4&surface_type=posts_tab\n",
      "  warnings.warn(\n"
     ]
    }
   ],
   "source": [
    "import numpy as np\n",
    "import seaborn as sns\n",
    "import matplotlib.pyplot as plt\n",
    "\n",
    "from facebook_scraper import get_posts\n",
    "import pandas as pd\n",
    "\n",
    "posts_list = []\n",
    "for post in get_posts('SudanPMHamdok', pages=5):\n",
    "    posts_list.append(post)\n",
    "\n",
    "posts = pd.DataFrame(posts_list)\n",
    "\n",
    "sns.set_theme(style=\"white\", context=\"talk\")\n",
    "rs = np.random.RandomState(8)\n",
    "\n",
    "def without_hue(plot, feature):\n",
    "    total = len(feature)\n",
    "    for p in plot.patches:\n",
    "        percentage = '{:.1f}%'.format(100 * p.get_height()/total)\n",
    "        x = p.get_x() + p.get_width() / 2 - 0.05\n",
    "        y = p.get_y() + p.get_height()\n",
    "        plot.annotate(percentage, (x, y), size = 25)\n",
    "    plt.show()\n",
    "    \n",
    "time_list = []\n",
    "for time in posts.time:\n",
    "    time_list.append(str(time.month) + '/' + str(time.day))\n",
    "    \n",
    "# Set up the matplotlib figure\n",
    "f, (ax1, ax2, ax3) = plt.subplots(3, 1, figsize=(20, 10), sharex=True)\n",
    "\n",
    "# Generate some sequential data\n",
    "x = time_list\n",
    "y1 = posts.likes\n",
    "sns.barplot(x=x, y=y1, palette=\"rocket\", ax=ax1)\n",
    "ax1.axhline(0, color=\"k\", clip_on=False)\n",
    "ax1.set_ylabel(\"Likes\")\n",
    "# without_hue(ax1, y1)\n",
    "\n",
    "# Center the data to make it diverging\n",
    "y2 = posts.comments\n",
    "sns.barplot(x=x, y=y2, palette=\"vlag\", ax=ax2)\n",
    "ax2.axhline(0, color=\"k\", clip_on=False)\n",
    "ax2.set_ylabel(\"Comments\")\n",
    "# without_hue(ax2, y2)\n",
    "\n",
    "# Randomly reorder the data to make it qualitative\n",
    "y3 = posts.shares\n",
    "sns.barplot(x=x, y=y3, palette=\"deep\", ax=ax3)\n",
    "ax3.axhline(0, color=\"k\", clip_on=False)\n",
    "ax3.set_ylabel(\"Shares\")\n",
    "# without_hue(ax3, y3)\n",
    "\n",
    "# Finalize the plot\n",
    "\n",
    "sns.despine(bottom=True)\n",
    "plt.setp(f.axes, yticks=[])\n",
    "plt.tight_layout(h_pad=2)\n",
    "# plt.title(\"figure shows posts interaction in august and september\",color='C3')\n",
    "ax1.set_title(\"figure shows posts interaction in august and september\",color='C3',size=40)"
   ]
  },
  {
   "cell_type": "code",
   "execution_count": null,
   "metadata": {},
   "outputs": [],
   "source": []
  }
 ],
 "metadata": {
  "kernelspec": {
   "display_name": "Python 3 (ipykernel)",
   "language": "python",
   "name": "python3"
  },
  "language_info": {
   "codemirror_mode": {
    "name": "ipython",
    "version": 3
   },
   "file_extension": ".py",
   "mimetype": "text/x-python",
   "name": "python",
   "nbconvert_exporter": "python",
   "pygments_lexer": "ipython3",
   "version": "3.8.10"
  }
 },
 "nbformat": 4,
 "nbformat_minor": 4
}
